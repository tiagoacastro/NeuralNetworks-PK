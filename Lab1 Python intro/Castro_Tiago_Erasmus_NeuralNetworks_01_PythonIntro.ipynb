{
 "cells": [
  {
   "cell_type": "markdown",
   "metadata": {},
   "source": [
    "# Erasmus Neural Networks\n",
    "http://michalbereta.pl/nn\n",
    "\n",
    "## Introduction to Python"
   ]
  },
  {
   "cell_type": "markdown",
   "metadata": {},
   "source": [
    "## Installing\n",
    "Download Python 3 from http://www.python.org\n",
    "\n",
    "or (recommended) download Anaconda3 from https://www.anaconda.com/download/\n",
    "\n",
    "\n",
    "Recommended reading: https://docs.python.org/3/tutorial/index.html"
   ]
  },
  {
   "cell_type": "markdown",
   "metadata": {},
   "source": [
    "## Before you start\n",
    "\n",
    "Change the name of this notebook according to the schema: {YourSurname}\\_{YourFirstName}\\_{OriginalFileName}.\n",
    "\n",
    "Be sure to fill all places with \"YOUR ANSWER HERE\".\n",
    "\n",
    "When ready, send the notebook, with all the necessary files zipped, to the teacher."
   ]
  },
  {
   "cell_type": "markdown",
   "metadata": {},
   "source": [
    "## Short examples"
   ]
  },
  {
   "cell_type": "markdown",
   "metadata": {},
   "source": [
    "How to print something"
   ]
  },
  {
   "cell_type": "code",
   "execution_count": 1,
   "metadata": {},
   "outputs": [
    {
     "name": "stdout",
     "output_type": "stream",
     "text": [
      "Hello world!\n",
      "Hello world!!\n"
     ]
    }
   ],
   "source": [
    "print(\"Hello world!\")\n",
    "\n",
    "#or\n",
    "print('Hello world!!')"
   ]
  },
  {
   "cell_type": "markdown",
   "metadata": {},
   "source": [
    "Python is a dynamicaly typed language."
   ]
  },
  {
   "cell_type": "code",
   "execution_count": 1,
   "metadata": {},
   "outputs": [
    {
     "output_type": "stream",
     "name": "stdout",
     "text": [
      "hello\n0.3333333333333333\n"
     ]
    }
   ],
   "source": [
    "x = 'hello'   #x is a string\n",
    "print(x)\n",
    "x = 1.0/3   #and now x is a float\n",
    "print(x)"
   ]
  },
  {
   "cell_type": "markdown",
   "metadata": {},
   "source": [
    "String formatting.\n",
    "\n",
    "About formatting, check also https://pyformat.info/ and https://docs.python.org/3/library/string.html"
   ]
  },
  {
   "cell_type": "code",
   "execution_count": 3,
   "metadata": {},
   "outputs": [
    {
     "name": "stdout",
     "output_type": "stream",
     "text": [
      "x1 = 0.33, x2 = 13\n"
     ]
    }
   ],
   "source": [
    "x1 = 1.0/3\n",
    "x2 = 13\n",
    "print(\"x1 = {:.2f}, x2 = {:d}\".format(x1, x2))"
   ]
  },
  {
   "cell_type": "markdown",
   "metadata": {},
   "source": [
    "How to check and change the working directory."
   ]
  },
  {
   "cell_type": "code",
   "execution_count": 4,
   "metadata": {},
   "outputs": [
    {
     "name": "stdout",
     "output_type": "stream",
     "text": [
      "C:\\Users\\mb\\__notebooks\\nn_2018\\Lab1 Python intro\n",
      "c:\\\n",
      "C:\\Users\\mb\\__notebooks\\nn_2018\\Lab1 Python intro\n"
     ]
    }
   ],
   "source": [
    "import os\n",
    "old_wd = os.getcwd()\n",
    "print(old_wd)\n",
    "os.chdir('c:\\\\')\n",
    "print(os.getcwd())\n",
    "os.chdir(old_wd)\n",
    "print(os.getcwd())"
   ]
  },
  {
   "cell_type": "markdown",
   "metadata": {},
   "source": [
    "How to list the content of a module and display help info."
   ]
  },
  {
   "cell_type": "code",
   "execution_count": 5,
   "metadata": {},
   "outputs": [
    {
     "name": "stdout",
     "output_type": "stream",
     "text": [
      "['DirEntry', 'F_OK', 'MutableMapping', 'O_APPEND', 'O_BINARY', 'O_CREAT', 'O_EXCL', 'O_NOINHERIT', 'O_RANDOM', 'O_RDONLY', 'O_RDWR', 'O_SEQUENTIAL', 'O_SHORT_LIVED', 'O_TEMPORARY', 'O_TEXT', 'O_TRUNC', 'O_WRONLY', 'P_DETACH', 'P_NOWAIT', 'P_NOWAITO', 'P_OVERLAY', 'P_WAIT', 'PathLike', 'R_OK', 'SEEK_CUR', 'SEEK_END', 'SEEK_SET', 'TMP_MAX', 'W_OK', 'X_OK', '_Environ', '__all__', '__builtins__', '__cached__', '__doc__', '__file__', '__loader__', '__name__', '__package__', '__spec__', '_execvpe', '_exists', '_exit', '_fspath', '_get_exports_list', '_putenv', '_unsetenv', '_wrap_close', 'abc', 'abort', 'access', 'altsep', 'chdir', 'chmod', 'close', 'closerange', 'cpu_count', 'curdir', 'defpath', 'device_encoding', 'devnull', 'dup', 'dup2', 'environ', 'error', 'execl', 'execle', 'execlp', 'execlpe', 'execv', 'execve', 'execvp', 'execvpe', 'extsep', 'fdopen', 'fsdecode', 'fsencode', 'fspath', 'fstat', 'fsync', 'ftruncate', 'get_exec_path', 'get_handle_inheritable', 'get_inheritable', 'get_terminal_size', 'getcwd', 'getcwdb', 'getenv', 'getlogin', 'getpid', 'getppid', 'isatty', 'kill', 'linesep', 'link', 'listdir', 'lseek', 'lstat', 'makedirs', 'mkdir', 'name', 'open', 'pardir', 'path', 'pathsep', 'pipe', 'popen', 'putenv', 'read', 'readlink', 'remove', 'removedirs', 'rename', 'renames', 'replace', 'rmdir', 'scandir', 'sep', 'set_handle_inheritable', 'set_inheritable', 'spawnl', 'spawnle', 'spawnv', 'spawnve', 'st', 'startfile', 'stat', 'stat_result', 'statvfs_result', 'strerror', 'supports_bytes_environ', 'supports_dir_fd', 'supports_effective_ids', 'supports_fd', 'supports_follow_symlinks', 'symlink', 'sys', 'system', 'terminal_size', 'times', 'times_result', 'truncate', 'umask', 'uname_result', 'unlink', 'urandom', 'utime', 'waitpid', 'walk', 'write']\n",
      "Help on built-in function chdir in module nt:\n",
      "\n",
      "chdir(path)\n",
      "    Change the current working directory to the specified path.\n",
      "    \n",
      "    path may always be specified as a string.\n",
      "    On some platforms, path may also be specified as an open file descriptor.\n",
      "      If this functionality is unavailable, using it raises an exception.\n",
      "\n",
      "Help on built-in function mkdir in module nt:\n",
      "\n",
      "mkdir(path, mode=511, *, dir_fd=None)\n",
      "    Create a directory.\n",
      "    \n",
      "    If dir_fd is not None, it should be a file descriptor open to a directory,\n",
      "      and path should be relative; path will then be relative to that directory.\n",
      "    dir_fd may not be implemented on your platform.\n",
      "      If it is unavailable, using it will raise a NotImplementedError.\n",
      "    \n",
      "    The mode argument is ignored on Windows.\n",
      "\n"
     ]
    }
   ],
   "source": [
    "import os\n",
    "print(dir(os))\n",
    "help(os.chdir)\n",
    "help(os.mkdir)"
   ]
  },
  {
   "cell_type": "markdown",
   "metadata": {},
   "source": [
    "How to run another python file.\n",
    "\n",
    "Create file 'myprogram.py' in your current working directory. Set the content of the file 'myprogram.py' as:\n",
    "\n",
    "print('hello from another file')"
   ]
  },
  {
   "cell_type": "code",
   "execution_count": 6,
   "metadata": {},
   "outputs": [
    {
     "ename": "FileNotFoundError",
     "evalue": "[Errno 2] No such file or directory: 'myprogram.py'",
     "output_type": "error",
     "traceback": [
      "\u001b[1;31m---------------------------------------------------------------------------\u001b[0m",
      "\u001b[1;31mFileNotFoundError\u001b[0m                         Traceback (most recent call last)",
      "\u001b[1;32m<ipython-input-6-e54eafe3a98d>\u001b[0m in \u001b[0;36m<module>\u001b[1;34m\u001b[0m\n\u001b[1;32m----> 1\u001b[1;33m \u001b[0mexec\u001b[0m\u001b[1;33m(\u001b[0m\u001b[0mcompile\u001b[0m\u001b[1;33m(\u001b[0m\u001b[0mopen\u001b[0m\u001b[1;33m(\u001b[0m\u001b[1;34m'myprogram.py'\u001b[0m\u001b[1;33m)\u001b[0m\u001b[1;33m.\u001b[0m\u001b[0mread\u001b[0m\u001b[1;33m(\u001b[0m\u001b[1;33m)\u001b[0m\u001b[1;33m,\u001b[0m \u001b[1;34m'myprogram.py'\u001b[0m\u001b[1;33m,\u001b[0m \u001b[1;34m'exec'\u001b[0m\u001b[1;33m)\u001b[0m\u001b[1;33m)\u001b[0m\u001b[1;33m\u001b[0m\u001b[1;33m\u001b[0m\u001b[0m\n\u001b[0m",
      "\u001b[1;31mFileNotFoundError\u001b[0m: [Errno 2] No such file or directory: 'myprogram.py'"
     ]
    }
   ],
   "source": [
    "exec(compile(open('myprogram.py').read(), 'myprogram.py', 'exec'))"
   ]
  },
  {
   "cell_type": "markdown",
   "metadata": {},
   "source": [
    "How to read user input."
   ]
  },
  {
   "cell_type": "code",
   "execution_count": 7,
   "metadata": {},
   "outputs": [
    {
     "name": "stdout",
     "output_type": "stream",
     "text": [
      "What is your name?\n",
      "dasd\n",
      "Hello dasd\n",
      "How old are you?21\n",
      "Your age is 21\n"
     ]
    }
   ],
   "source": [
    "print('What is your name?')\n",
    "n = input()\n",
    "print('Hello ' + n)\n",
    "#or \n",
    "age = input('How old are you?')\n",
    "print('Your age is ' + str(age))"
   ]
  },
  {
   "cell_type": "markdown",
   "metadata": {},
   "source": [
    "$while$ loop"
   ]
  },
  {
   "cell_type": "code",
   "execution_count": null,
   "metadata": {
    "collapsed": true
   },
   "outputs": [],
   "source": [
    "answer = input('Hello, do you want to end this?')\n",
    "\n",
    "while answer != \"yes\":\n",
    "    answer = input('Do you want to end this?')\n",
    "    \n",
    "print('Ok, see you!')"
   ]
  },
  {
   "cell_type": "markdown",
   "metadata": {},
   "source": [
    "How to convert between strings and numeric values."
   ]
  },
  {
   "cell_type": "code",
   "execution_count": null,
   "metadata": {
    "collapsed": true
   },
   "outputs": [],
   "source": [
    "s1 = '123.14144'\n",
    "print(type(s1))\n",
    "\n",
    "x = float(s1)\n",
    "print(x)\n",
    "print(type(x))\n",
    "\n",
    "s2 = str(x) #use string formatting for a better control\n",
    "print(s2)\n",
    "print(type(s2))\n",
    "\n",
    "s3 = '123'\n",
    "x2 = int(s3)\n",
    "print(x2)\n",
    "print(type(x2))"
   ]
  },
  {
   "cell_type": "markdown",
   "metadata": {},
   "source": [
    "$if else$ statements"
   ]
  },
  {
   "cell_type": "code",
   "execution_count": null,
   "metadata": {
    "collapsed": true
   },
   "outputs": [],
   "source": [
    "while True:\n",
    "    answer = input('Do you want to end this?')\n",
    "    if answer == 'yes':\n",
    "        print('Ok, see you!')\n",
    "        break #breaks the while loop\n",
    "    elif answer == 'YES!':\n",
    "        print('Ok, do not be angry!')\n",
    "        break\n",
    "    elif answer == 'I like you':\n",
    "        print('I like you, too!')\n",
    "    else:\n",
    "        print('let\\'s play again!')\n"
   ]
  },
  {
   "cell_type": "markdown",
   "metadata": {},
   "source": [
    "## Task 1\n",
    "Ask user for a number. If it is even, multiply it by 3, otherwise if it is greater than 10 add 3, otherwise add 1."
   ]
  },
  {
   "cell_type": "code",
   "execution_count": 59,
   "metadata": {
    "collapsed": true
   },
   "outputs": [
    {
     "output_type": "stream",
     "name": "stdout",
     "text": [
      "Input number\n",
      "6.0\n"
     ]
    }
   ],
   "source": [
    "print('Input number')\n",
    "x = input()\n",
    "x = float(x)\n",
    "if x % 2 == 0:\n",
    "   x *= 3\n",
    "elif x > 10:\n",
    "   x += 3\n",
    "else:\n",
    "   x += 1\n",
    "print(x)\n"
   ]
  },
  {
   "cell_type": "markdown",
   "metadata": {},
   "source": [
    "How to define a simple function."
   ]
  },
  {
   "cell_type": "code",
   "execution_count": 8,
   "metadata": {
    "collapsed": true
   },
   "outputs": [
    {
     "output_type": "stream",
     "name": "stdout",
     "text": [
      "The sum of 2 and 3 is 5\n"
     ]
    }
   ],
   "source": [
    "def my_function1(x, y):\n",
    "    return x + y\n",
    "a = 2\n",
    "b = 3\n",
    "print('The sum of {} and {} is {}'.format(a, b, my_function1(a,b)))  "
   ]
  },
  {
   "cell_type": "markdown",
   "metadata": {},
   "source": [
    "How to import functions from another python file.\n",
    "\n",
    "Create a new file, 'my_lib.py', with the following content:\n",
    "\n",
    "```def my_function1(x, y):\n",
    "        return x + y```"
   ]
  },
  {
   "cell_type": "markdown",
   "metadata": {},
   "source": [
    "Use the function in the main program file."
   ]
  },
  {
   "cell_type": "code",
   "execution_count": null,
   "metadata": {
    "collapsed": true
   },
   "outputs": [],
   "source": [
    "import my_lib as lib\n",
    "\n",
    "a = 2\n",
    "b = 3\n",
    "print('the sum of {} and {} is {}'.format(a, b, lib.my_function1(a,b)))    "
   ]
  },
  {
   "cell_type": "markdown",
   "metadata": {},
   "source": [
    "How to create a $for$ loop."
   ]
  },
  {
   "cell_type": "code",
   "execution_count": null,
   "metadata": {},
   "outputs": [],
   "source": [
    "for i in range(10):\n",
    "    print(i, end=' ')\n",
    "\n",
    "print() # just to display a new line\n",
    "\n",
    "for i in range(2,15):\n",
    "    print(i, end=' ')\n",
    "    \n",
    "print() \n",
    "\n",
    "for i in range(2,15,3):\n",
    "    print(i, end=' ')\n",
    "\n",
    "print() \n",
    "\n",
    "for i in range(2,-12,-2):\n",
    "    print(i, end=' ')\n"
   ]
  },
  {
   "cell_type": "markdown",
   "metadata": {},
   "source": [
    "How to create a list."
   ]
  },
  {
   "cell_type": "code",
   "execution_count": null,
   "metadata": {
    "collapsed": true
   },
   "outputs": [],
   "source": [
    "l = []\n",
    "l.append(2)\n",
    "l.append(4)\n",
    "l.insert(1, 'hello')\n",
    "\n",
    "print(l)\n",
    "print(type(l))    "
   ]
  },
  {
   "cell_type": "markdown",
   "metadata": {},
   "source": [
    "How to create a list - range() returns a list."
   ]
  },
  {
   "cell_type": "code",
   "execution_count": null,
   "metadata": {
    "collapsed": true
   },
   "outputs": [],
   "source": [
    "l = list(range(5))\n",
    "print(l)\n",
    "print(type(l))"
   ]
  },
  {
   "cell_type": "markdown",
   "metadata": {},
   "source": [
    "How to iterate over list."
   ]
  },
  {
   "cell_type": "code",
   "execution_count": null,
   "metadata": {
    "collapsed": true
   },
   "outputs": [],
   "source": [
    "l = list(range(5))\n",
    "print(l)\n",
    "for x in l:\n",
    "    print(x)\n",
    "for i in range(len(l)):\n",
    "    print('l[{}] = '.format(i), l[i])"
   ]
  },
  {
   "cell_type": "markdown",
   "metadata": {},
   "source": [
    "How to concatenate two lists."
   ]
  },
  {
   "cell_type": "code",
   "execution_count": null,
   "metadata": {
    "collapsed": true
   },
   "outputs": [],
   "source": [
    "l1 = list(range(5))\n",
    "l2 = ['one', 'two', 'three']\n",
    "l3 = l1 + l2\n",
    "print(l3)\n",
    "l4 = [l1, l2] #something different: list with two elements, each of which is a list\n",
    "print(l4)\n",
    "l1.append(l2) #yet something different\n",
    "print(l1)"
   ]
  },
  {
   "cell_type": "markdown",
   "metadata": {},
   "source": [
    "How to select elements from list."
   ]
  },
  {
   "cell_type": "code",
   "execution_count": null,
   "metadata": {
    "collapsed": true
   },
   "outputs": [],
   "source": [
    "l = list(range(10))\n",
    "print(l)\n",
    "print(l[3])\n",
    "print(l[-1])#the last one\n",
    "print(l[-2])#second from the end\n",
    "print(l[2:6])#from the third to seventh (exclusive)\n",
    "print(l[5:])#from the sixth to the end\n",
    "print(l[:-2])\n",
    "print(l[:])#all elements, the same as print l"
   ]
  },
  {
   "cell_type": "markdown",
   "metadata": {},
   "source": [
    "How to get a sublist."
   ]
  },
  {
   "cell_type": "code",
   "execution_count": null,
   "metadata": {
    "collapsed": true
   },
   "outputs": [],
   "source": [
    "l = list(range(10))\n",
    "print(l)\n",
    "l2 = l[4:7]\n",
    "print(l2)\n",
    "l2[0] = 22 #will it change l?\n",
    "print(l2)\n",
    "print(l)"
   ]
  },
  {
   "cell_type": "markdown",
   "metadata": {},
   "source": [
    "How to do something with every element in the list, for example, calculate power 2."
   ]
  },
  {
   "cell_type": "code",
   "execution_count": null,
   "metadata": {
    "collapsed": true
   },
   "outputs": [],
   "source": [
    "l = list(range(10))\n",
    "print(l)\n",
    "\n",
    "#not so good approach\n",
    "for i in range(len(l)):\n",
    "    l[i] = l[i]**2\n",
    "print(l)\n",
    "\n",
    "#better approach\n",
    "l = [x**2 for x in l]\n",
    "print(l)"
   ]
  },
  {
   "cell_type": "markdown",
   "metadata": {},
   "source": [
    "How to filter elements on the list, for example, select dividable by 7."
   ]
  },
  {
   "cell_type": "code",
   "execution_count": 10,
   "metadata": {
    "collapsed": true
   },
   "outputs": [
    {
     "output_type": "stream",
     "name": "stdout",
     "text": [
      "[0, 1, 2, 3, 4, 5, 6, 7, 8, 9, 10, 11, 12, 13, 14, 15, 16, 17, 18, 19, 20, 21, 22, 23, 24, 25, 26, 27, 28, 29, 30, 31, 32, 33, 34, 35, 36, 37, 38, 39, 40, 41, 42, 43, 44, 45, 46, 47, 48, 49, 50, 51, 52, 53, 54, 55, 56, 57, 58, 59, 60, 61, 62, 63, 64, 65, 66, 67, 68, 69, 70, 71, 72, 73, 74, 75, 76, 77, 78, 79]\n\n [0, 7, 14, 21, 28, 35, 42, 49, 56, 63, 70, 77]\n"
     ]
    }
   ],
   "source": [
    "l = list(range(80))\n",
    "print(l)\n",
    "l2 = [x for x in l if x%7==0]\n",
    "print('\\n',l2)"
   ]
  },
  {
   "cell_type": "markdown",
   "metadata": {},
   "source": [
    "How to call a function for each element from the list."
   ]
  },
  {
   "cell_type": "code",
   "execution_count": null,
   "metadata": {
    "collapsed": true
   },
   "outputs": [],
   "source": [
    "def my_fun(z):\n",
    "    return z**3\n",
    "\n",
    "l = list(range(40))\n",
    "print(l)\n",
    "l2 = [my_fun(x) for x in l]\n",
    "print()\n",
    "print(l2)"
   ]
  },
  {
   "cell_type": "markdown",
   "metadata": {},
   "source": [
    "List comprehension with more than one list."
   ]
  },
  {
   "cell_type": "code",
   "execution_count": null,
   "metadata": {
    "collapsed": true
   },
   "outputs": [],
   "source": [
    "l1 = list(range(5))\n",
    "l2 = list(range(5,10))\n",
    "print(l1)\n",
    "print(l2)\n",
    "\n",
    "l3 = [x*y for x in l1 for y in l2]\n",
    "print(l3)\n",
    "    \n",
    "print(list(zip(l1, l2)))\n",
    "l4 = [x[0]*x[1] for x in zip(l1,l2)]\n",
    "print(l4)\n",
    "\n",
    "print(list(zip(l1, l2, l3)))"
   ]
  },
  {
   "cell_type": "markdown",
   "metadata": {},
   "source": [
    "The tuple type in python can store several values."
   ]
  },
  {
   "cell_type": "code",
   "execution_count": null,
   "metadata": {
    "collapsed": true
   },
   "outputs": [],
   "source": [
    "mytuple = (1, 'Bob', 3.14)\n",
    "print(type(mytuple))"
   ]
  },
  {
   "cell_type": "markdown",
   "metadata": {},
   "source": [
    "The tuple type in python cannot be modified. The following will generate an error."
   ]
  },
  {
   "cell_type": "code",
   "execution_count": null,
   "metadata": {
    "collapsed": true
   },
   "outputs": [],
   "source": [
    "mytuple[1] = 'John'"
   ]
  },
  {
   "cell_type": "markdown",
   "metadata": {},
   "source": [
    "## Task 2\n",
    "Create a list with positive numbers less than 100, which raised to power 2 are dividable by 6."
   ]
  },
  {
   "cell_type": "code",
   "execution_count": 60,
   "metadata": {
    "collapsed": true
   },
   "outputs": [
    {
     "output_type": "stream",
     "name": "stdout",
     "text": [
      "[1, 2, 3, 4, 5, 6, 7, 8, 9, 10, 11, 12, 13, 14, 15, 16, 17, 18, 19, 20, 21, 22, 23, 24, 25, 26, 27, 28, 29, 30, 31, 32, 33, 34, 35, 36, 37, 38, 39, 40, 41, 42, 43, 44, 45, 46, 47, 48, 49, 50, 51, 52, 53, 54, 55, 56, 57, 58, 59, 60, 61, 62, 63, 64, 65, 66, 67, 68, 69, 70, 71, 72, 73, 74, 75, 76, 77, 78, 79, 80, 81, 82, 83, 84, 85, 86, 87, 88, 89, 90, 91, 92, 93, 94, 95, 96, 97, 98, 99]\n\n [6, 12, 18, 24, 30, 36, 42, 48, 54, 60, 66, 72, 78, 84, 90, 96]\n"
     ]
    }
   ],
   "source": [
    "l = list(range(1,100))\n",
    "print(l)\n",
    "l2 = [x for x in l if (x*x)%6==0]\n",
    "print('\\n',l2)"
   ]
  },
  {
   "cell_type": "markdown",
   "metadata": {},
   "source": [
    "How to delete elements from the list."
   ]
  },
  {
   "cell_type": "code",
   "execution_count": null,
   "metadata": {
    "collapsed": true
   },
   "outputs": [],
   "source": [
    "l = list(range(10))\n",
    "print(l)\n",
    "l[3:-2] = []\n",
    "print(l)"
   ]
  },
  {
   "cell_type": "markdown",
   "metadata": {},
   "source": [
    "How to delete elements from the list - be carefull!"
   ]
  },
  {
   "cell_type": "code",
   "execution_count": null,
   "metadata": {
    "collapsed": true
   },
   "outputs": [],
   "source": [
    "l = list(range(10))\n",
    "print(l)\n",
    "l[3] = []\n",
    "print(l)"
   ]
  },
  {
   "cell_type": "markdown",
   "metadata": {},
   "source": [
    "How to delete elements from the list - correct."
   ]
  },
  {
   "cell_type": "code",
   "execution_count": null,
   "metadata": {
    "collapsed": true
   },
   "outputs": [],
   "source": [
    "l = list(range(10))\n",
    "print(l)\n",
    "del l[3]\n",
    "print(l)"
   ]
  },
  {
   "cell_type": "markdown",
   "metadata": {},
   "source": [
    "How to do some interesting things with lists."
   ]
  },
  {
   "cell_type": "code",
   "execution_count": 9,
   "metadata": {
    "collapsed": true
   },
   "outputs": [
    {
     "output_type": "stream",
     "name": "stdout",
     "text": [
      "['one', 'two', 'three', 'four']\n['four', 'three', 'two', 'one']\n['four', 'one', 'three', 'two']\n['four', 'one', 'three', 'two', 'four', 'one', 'three', 'two']\n2\n3\n['four', 'one', 'three', 'four', 'one', 'three', 'two']\n['three', 'one', 'two', 'four']\n['four', 'one', 'three', 'four', 'one', 'three', 'two']\n['one', 'three', 'one', 'three', 'two']\n"
     ]
    }
   ],
   "source": [
    "l = ['one','two','three','four']\n",
    "print(l)\n",
    "\n",
    "#reverse\n",
    "l.reverse()\n",
    "print(l)\n",
    "\n",
    "#sort\n",
    "l.sort()\n",
    "print(l)\n",
    "\n",
    "l = l+l  #what is happening here?\n",
    "print(l)\n",
    "\n",
    "#how many elements of value 'two'?\n",
    "print(l.count('two'))\n",
    "\n",
    "#index of an element (first occurance)\n",
    "print(l.index('two'))\n",
    "\n",
    "#remove first occurance of 'two'\n",
    "l.remove('two')\n",
    "print(l)\n",
    "\n",
    "#remove duplications\n",
    "l2 = list(set(l))\n",
    "print(l2)\n",
    "\n",
    "#remove all accurances of an element\n",
    "print(l)\n",
    "l = [x for x in l if x!='four']\n",
    "print(l)"
   ]
  },
  {
   "cell_type": "markdown",
   "metadata": {},
   "source": [
    "How to use sets (collections that do not allow repetitions)."
   ]
  },
  {
   "cell_type": "code",
   "execution_count": 23,
   "metadata": {
    "collapsed": true
   },
   "outputs": [
    {
     "output_type": "stream",
     "name": "stdout",
     "text": [
      "set()\n{'some string', 2, 5}\nsome string\n2\n5\n<class 'set'>\n['some string', 2, 5]\n<class 'list'>\n"
     ]
    }
   ],
   "source": [
    "my_set = set()\n",
    "print(my_set)\n",
    "\n",
    "my_set.add(2)\n",
    "my_set.add(5)\n",
    "my_set.add('some string')\n",
    "my_set.add(5)\n",
    "my_set.add('some string')\n",
    "\n",
    "print(my_set)\n",
    "\n",
    "for x in my_set:\n",
    "    print(x)\n",
    "    \n",
    "print(type(my_set))\n",
    "\n",
    "l = list(my_set)\n",
    "\n",
    "print(l)\n",
    "\n",
    "print(type(l))"
   ]
  },
  {
   "cell_type": "markdown",
   "metadata": {},
   "source": [
    "How to use tuples (elements cannot be change in tuples)."
   ]
  },
  {
   "cell_type": "code",
   "execution_count": null,
   "metadata": {
    "collapsed": true
   },
   "outputs": [],
   "source": [
    "x = (1,2,3, 'some string')\n",
    "print(x)\n",
    "print(type(x))\n",
    "\n",
    "#x[0] = 4 #error! cannot change the element in tuple\n",
    "\n",
    "l = list(x) #creates a list based on the tuple elements\n",
    "l[0] = 4\n",
    "print(l)\n",
    "\n",
    "x1, x2 = x[1:3] #unpacking some of tuple elements\n",
    "\n",
    "print(x1, x2)"
   ]
  },
  {
   "cell_type": "markdown",
   "metadata": {},
   "source": [
    "How to copy a list - wrong way."
   ]
  },
  {
   "cell_type": "code",
   "execution_count": null,
   "metadata": {
    "collapsed": true
   },
   "outputs": [],
   "source": [
    "l = list(range(10))\n",
    "l2 = l #is it a copy? no!\n",
    "l2[0] = 11\n",
    "print(l)\n",
    "print(l2)"
   ]
  },
  {
   "cell_type": "markdown",
   "metadata": {},
   "source": [
    "How to copy a list - correct."
   ]
  },
  {
   "cell_type": "code",
   "execution_count": 12,
   "metadata": {
    "collapsed": true
   },
   "outputs": [
    {
     "output_type": "stream",
     "name": "stdout",
     "text": [
      "[0, 1, 2, 3, 4, 5, 6, 7, 8, 9]\n[11, 1, 2, 3, 4, 5, 6, 7, 8, 9]\n"
     ]
    }
   ],
   "source": [
    "l = list(range(10))\n",
    "l2 = l[:] #is it a copy? yes!\n",
    "l2[0] = 11\n",
    "print(l)\n",
    "print(l2)"
   ]
  },
  {
   "cell_type": "markdown",
   "metadata": {},
   "source": [
    "How to copy a list - correct."
   ]
  },
  {
   "cell_type": "code",
   "execution_count": null,
   "metadata": {
    "collapsed": true
   },
   "outputs": [],
   "source": [
    "l = list(range(10))\n",
    "l2 = list(l) #is it a copy? yes!\n",
    "l2[0] = 11\n",
    "print(l)\n",
    "print(l2)"
   ]
  },
  {
   "cell_type": "markdown",
   "metadata": {},
   "source": [
    "How to copy a list of objects."
   ]
  },
  {
   "cell_type": "code",
   "execution_count": null,
   "metadata": {
    "collapsed": true
   },
   "outputs": [],
   "source": [
    "class MyData:\n",
    "    def __init__(self, value):\n",
    "        self.x = value\n",
    "\n",
    "l = [MyData(11), MyData(22), MyData(33)]\n",
    "for z in l:\n",
    "    print(z.x);\n",
    "    \n",
    "l2 = list(l) #copy of the list but the objects are the same !!!\n",
    "l2[0].x = 44\n",
    "\n",
    "print()\n",
    "for z in l2:\n",
    "    print(z.x)\n",
    "print()\n",
    "for z in l:\n",
    "    print(z.x)"
   ]
  },
  {
   "cell_type": "markdown",
   "metadata": {},
   "source": [
    "How to copy a list of objects ith deepcopy."
   ]
  },
  {
   "cell_type": "code",
   "execution_count": null,
   "metadata": {
    "collapsed": true
   },
   "outputs": [],
   "source": [
    "import copy\n",
    "\n",
    "class MyData:\n",
    "    def __init__(self, value):\n",
    "        self.x = value\n",
    "\n",
    "l = [MyData(11), MyData(22), MyData(33)]\n",
    "for z in l:\n",
    "    print(z.x);\n",
    "    \n",
    "l2 = copy.deepcopy(l) #copy of the list and the objects\n",
    "l2[0].x = 44\n",
    "\n",
    "print('')\n",
    "for z in l2:\n",
    "    print(z.x)\n",
    "print('')\n",
    "for z in l:\n",
    "    print(z.x)"
   ]
  },
  {
   "cell_type": "markdown",
   "metadata": {},
   "source": [
    "How to create simple class."
   ]
  },
  {
   "cell_type": "code",
   "execution_count": null,
   "metadata": {
    "collapsed": true
   },
   "outputs": [],
   "source": [
    "import copy\n",
    "\n",
    "class MyData:\n",
    "    def __init__(self, data):\n",
    "        self.data = copy.deepcopy(data)\n",
    "    def PrintData(self):\n",
    "        for x in self.data:\n",
    "            print(x)\n",
    "           \n",
    "l = list(range(5))\n",
    "d = MyData(l)\n",
    "d.PrintData()"
   ]
  },
  {
   "cell_type": "markdown",
   "metadata": {},
   "source": [
    "How to copy objects."
   ]
  },
  {
   "cell_type": "code",
   "execution_count": null,
   "metadata": {
    "collapsed": true
   },
   "outputs": [],
   "source": [
    "import copy\n",
    "\n",
    "class MyData:\n",
    "    def __init__(self, data):\n",
    "        self.data = copy.deepcopy(data)\n",
    "    def PrintData(self):\n",
    "        print('\\ndata: ')\n",
    "        for x in self.data:\n",
    "            print(x, end=' ')\n",
    "\n",
    "l = list(range(5))            \n",
    "d = MyData(l)\n",
    "d.PrintData()\n",
    "\n",
    "d2 = d #just two names for the same object!\n",
    "d2.data[0] = 22\n",
    "\n",
    "d.PrintData()\n",
    "d2.PrintData()\n",
    "\n",
    "print('\\nunique identifiers of objects:')\n",
    "print(id(d))\n",
    "print(id(d2)) #the same -> d and d2 are the same object\n",
    "\n",
    "d2 = copy.copy(d)\n",
    "print(id(d2)) #now d2 is different than d\n",
    "\n",
    "d2.data[0] = 33\n",
    "\n",
    "d2.PrintData()\n",
    "d.PrintData() # be carefull! d and d2 are different objects but they have the same list data!\n",
    "\n",
    "#correct !\n",
    "d2 = copy.deepcopy(d)\n",
    "print()\n",
    "print()\n",
    "print(id(d))\n",
    "print(id(d2))\n",
    "d2.data[0] = 44\n",
    "d.PrintData()\n",
    "d2.PrintData() #different data! ok!"
   ]
  },
  {
   "cell_type": "markdown",
   "metadata": {},
   "source": [
    "Does a function change a simple buil-in types?"
   ]
  },
  {
   "cell_type": "code",
   "execution_count": null,
   "metadata": {
    "collapsed": true
   },
   "outputs": [],
   "source": [
    "def function1(x):\n",
    "    x = x + 1\n",
    "    print(x)\n",
    "\n",
    "d = 2\n",
    "print(d)\n",
    "\n",
    "function1(d)\n",
    "\n",
    "print(d) #is the change visible? no!"
   ]
  },
  {
   "cell_type": "markdown",
   "metadata": {},
   "source": [
    "Does a function change a list?"
   ]
  },
  {
   "cell_type": "code",
   "execution_count": null,
   "metadata": {
    "collapsed": true
   },
   "outputs": [],
   "source": [
    "def function1(x):\n",
    "    x[0] = 11\n",
    "    print(x)\n",
    "\n",
    "l = list(range(5))\n",
    "print(l)\n",
    "\n",
    "function1(l)\n",
    "\n",
    "print(l) #is the change visible? yes!"
   ]
  },
  {
   "cell_type": "markdown",
   "metadata": {},
   "source": [
    "Does a function change an object?"
   ]
  },
  {
   "cell_type": "code",
   "execution_count": 13,
   "metadata": {
    "collapsed": true
   },
   "outputs": [
    {
     "output_type": "stream",
     "name": "stdout",
     "text": [
      "\ndata:\n0 1 2 3 4 \ndata:\n11 1 2 3 4 "
     ]
    }
   ],
   "source": [
    "import copy\n",
    "\n",
    "class MyData:\n",
    "    def __init__(self, data):\n",
    "        self.data = copy.deepcopy(data)\n",
    "    def PrintData(self):\n",
    "        print('\\ndata:')\n",
    "        for x in self.data:\n",
    "            print(x, end=' ')\n",
    "           \n",
    "def function1(x):\n",
    "    x.data[0] = 11\n",
    "\n",
    "\n",
    "d = MyData(list(range(5)))\n",
    "d.PrintData()\n",
    "\n",
    "function1(d)\n",
    "\n",
    "d.PrintData()#is the change visible? yes!"
   ]
  },
  {
   "cell_type": "markdown",
   "metadata": {},
   "source": [
    "## Task 3\n",
    "Write a class Person to store information about the name, surname and age of a person. \n",
    "\n",
    "Create a list o such objects. Copy the list to other list (make a deep copy: copy not only list but also the objects)."
   ]
  },
  {
   "cell_type": "code",
   "execution_count": 61,
   "metadata": {
    "collapsed": true
   },
   "outputs": [
    {
     "output_type": "stream",
     "name": "stdout",
     "text": [
      "Tiago Castro - 22 Cristiano Ronaldo - 35 Robert Lewandowski - 32 \nChanges1 Castro - 22 Cristiano Changes2 - 35 Robert Lewandowski - Changes3 "
     ]
    }
   ],
   "source": [
    "import copy\n",
    "\n",
    "class Person:\n",
    "    def __init__(self, name, surname, age):\n",
    "        self.name = name\n",
    "        self.surname = surname\n",
    "        self.age = age\n",
    "    def PrintData(self):\n",
    "        print(self.name+' '+self.surname+' - '+str(self.age), end =\" \")\n",
    "\n",
    "p1 = Person('Tiago', 'Castro', 22)\n",
    "p2 = Person('Cristiano', 'Ronaldo', 35)\n",
    "p3 = Person('Robert', 'Lewandowski', 32)\n",
    "\n",
    "l = [p1,p2,p3]\n",
    "l2 = copy.deepcopy(l) \n",
    "l2[0].name = \"Changes1\"\n",
    "l2[1].surname = \"Changes2\"\n",
    "l2[2].age = \"Changes3\"\n",
    "\n",
    "for o in l:\n",
    "    o.PrintData()\n",
    "print()\n",
    "for o in l2:\n",
    "    o.PrintData()"
   ]
  },
  {
   "cell_type": "markdown",
   "metadata": {},
   "source": [
    "How to sort a list of objects."
   ]
  },
  {
   "cell_type": "code",
   "execution_count": null,
   "metadata": {
    "collapsed": true
   },
   "outputs": [],
   "source": [
    "import random as rand\n",
    "\n",
    "class Data:\n",
    "    def __init__(self):\n",
    "        self.x = rand.random()\n",
    "        self.y = rand.random()\n",
    "    def __str__(self):\n",
    "        return '(' + str(self.x) + '; ' + str(self.y) + ')'\n",
    "    def __repr__(self):\n",
    "        return '(' + str(self.x) + '; ' + str(self.y) + ')'\n",
    "\n",
    "l = []\n",
    "for i in range(10):\n",
    "    l.append(Data())\n",
    "print(l)\n",
    "\n",
    "l2 = sorted(l, key = lambda object : object.x) #sorted according to Data.x values\n",
    "print()\n",
    "print(l2)\n",
    "\n",
    "l3 = sorted(l, key = lambda object : object.y) #sorted according to Data.y values\n",
    "print()\n",
    "print(l3)"
   ]
  },
  {
   "cell_type": "markdown",
   "metadata": {},
   "source": [
    "## Task 4\n",
    "Sort a list of Person objects according to age/name/surname."
   ]
  },
  {
   "cell_type": "code",
   "execution_count": 62,
   "metadata": {
    "collapsed": true
   },
   "outputs": [
    {
     "output_type": "stream",
     "name": "stdout",
     "text": [
      "Tiago Castro - 22 Cristiano Ronaldo - 35 Robert Lewandowski - 32 Fidel Castro - 22 Fidel Doe - 22 \nFidel Castro - 22 Fidel Doe - 22 Tiago Castro - 22 Robert Lewandowski - 32 Cristiano Ronaldo - 35 "
     ]
    }
   ],
   "source": [
    "class Person:\n",
    "    def __init__(self, name, surname, age):\n",
    "        self.name = name\n",
    "        self.surname = surname\n",
    "        self.age = age\n",
    "    def PrintData(self):\n",
    "        print(self.name+' '+self.surname+' - '+str(self.age), end =\" \")\n",
    "\n",
    "p1 = Person('Tiago', 'Castro', 22)\n",
    "p11 = Person('Fidel', 'Castro', 22)\n",
    "p12 = Person('Fidel', 'Doe', 22)\n",
    "p2 = Person('Cristiano', 'Ronaldo', 35)\n",
    "p3 = Person('Robert', 'Lewandowski', 32)\n",
    "\n",
    "l = [p1,p2,p3,p11,p12]\n",
    "\n",
    "for o in l:\n",
    "    o.PrintData()\n",
    "print()\n",
    "\n",
    "l2 = sorted(l, key = lambda object : (object.age, object.name, object.surname))\n",
    "\n",
    "for o in l2:\n",
    "    o.PrintData()"
   ]
  },
  {
   "cell_type": "markdown",
   "metadata": {},
   "source": [
    "How to read from a file."
   ]
  },
  {
   "cell_type": "code",
   "execution_count": null,
   "metadata": {
    "collapsed": true
   },
   "outputs": [],
   "source": [
    "f = open('example_file.txt','r')\n",
    "lines = f.readlines()\n",
    "f.close()\n",
    "\n",
    "for l in lines:\n",
    "    print(l)"
   ]
  },
  {
   "cell_type": "markdown",
   "metadata": {},
   "source": [
    "How to write to a file."
   ]
  },
  {
   "cell_type": "code",
   "execution_count": null,
   "metadata": {
    "collapsed": true
   },
   "outputs": [],
   "source": [
    "l = list(range(10))\n",
    "f = open('out_file.txt','w')\n",
    "for x in l:\n",
    "    print('{} :'.format(x), end=' ', file=f)\n",
    "f.close()"
   ]
  },
  {
   "cell_type": "markdown",
   "metadata": {},
   "source": [
    "How to write to a file - another way."
   ]
  },
  {
   "cell_type": "code",
   "execution_count": null,
   "metadata": {
    "collapsed": true
   },
   "outputs": [],
   "source": [
    "l = list(range(4,20,3)) #from 4 to 20, every third \n",
    "f = open('out_file.txt','w')\n",
    "for x in l:\n",
    "    f.write('element {} :'.format(x))\n",
    "f.close()"
   ]
  },
  {
   "cell_type": "markdown",
   "metadata": {},
   "source": [
    "How to split a string."
   ]
  },
  {
   "cell_type": "code",
   "execution_count": null,
   "metadata": {
    "collapsed": true
   },
   "outputs": [],
   "source": [
    "s = 'this is some not so long sentence'\n",
    "words = s.split()\n",
    "print(words)\n",
    "print(type(words))"
   ]
  },
  {
   "cell_type": "markdown",
   "metadata": {},
   "source": [
    "How to list files from a directory."
   ]
  },
  {
   "cell_type": "code",
   "execution_count": null,
   "metadata": {
    "collapsed": true
   },
   "outputs": [],
   "source": [
    "import os\n",
    "from os.path import isfile, join\n",
    "\n",
    "print(os.listdir('.')) #list dirs and files from the current working directory\n",
    "#print(os.listdir('C:\\\\'))\n",
    "\n",
    "path = '.'\n",
    "for f in os.listdir(path):\n",
    "    if isfile(f):   \n",
    "        print(f) #or do something else\n",
    "\n",
    "\n",
    "#find only files        \n",
    "files = [f for f in os.listdir(path) if isfile(join(path, f))]\n",
    "print(files)\n",
    "\n",
    "#find only .txt files\n",
    "files = [f for f in os.listdir(path) if isfile(join(path, f)) and f.endswith('.txt')]\n",
    "print(files)"
   ]
  },
  {
   "cell_type": "markdown",
   "metadata": {},
   "source": [
    "## Task 5\n",
    "Count words in the file example_file.txt."
   ]
  },
  {
   "cell_type": "code",
   "execution_count": 63,
   "metadata": {
    "collapsed": true
   },
   "outputs": [
    {
     "output_type": "stream",
     "name": "stdout",
     "text": [
      "683\n"
     ]
    }
   ],
   "source": [
    "f = open('example_file.txt','r')\n",
    "data = f.read()\n",
    "words = data.split()\n",
    "f.close()\n",
    "\n",
    "print(len(words))"
   ]
  },
  {
   "cell_type": "markdown",
   "metadata": {},
   "source": [
    "## Task 6\n",
    "Print distinct words from file example_file.txt."
   ]
  },
  {
   "cell_type": "code",
   "execution_count": 64,
   "metadata": {
    "collapsed": true
   },
   "outputs": [
    {
     "output_type": "stream",
     "name": "stdout",
     "text": [
      "['but', 'state,', 'little', 'X', 'assignments;', 'maybe', 'correct,', 'functional', 'Other', 'goal', 'an', 'objects', 'runs;', 'it,', 'been', 'much', 'approaches', 'all', 'application', 'only', 'any', 'always', 'non-functional', 'properties', 'capsules', 'they’ll', 'c', 'inputs.', 'often', 'languages', 'invariants,', 'there', 'mathematically', 'until', 'both', 'require', 'data', 'will', 'programming', 'time', 'construct', 'from', 'use', 'pages', 'choose', 'avoidance', 'internally.', 'without', 'theoretical', 'let', 'b,', 'long;', 'are', 'believe', 'implementation', 'numerous', 'procedural', 'makes', 'correct', 'modify', 'updated', 'to', 'designers', 'concluding', 'moderately', 'web', 'effects.', 'function', 'useful', 'it’s', 'disk', 'output', 'discourages', 'other', 'make', 'interpreter,', 'can', 'error', 'the', 'This', 'very', 'mathematical', 'pausing', 'print', 'testing', 'executed,', 'Avoiding', 'should', 'be', 'flows', 'largely', 'each', 'two', 'onward.', 'software.', 'verifying', 'changes', 'set', 'Functional', 'large', 'purely', 'instances', 'you’ve', 'right', 'reach', 'proving', 'or', 'statement', 'support', 'functional.', 'variables', 'then', 'depend', 'in', 'state', 'internal', 'Each', 'show', 'source', 'instead', 'side', 'invariants', 'program’s', 'Y’', 'it', 'functional-appearing', 'could', 'code', 'along', 'won’t', 'match', 'function’s', 'such', 'For', 'input', 'emphasize', 'means', 'between', 'a=3', 'wrongly', 'programs', 'question', 'works', 'go', 'functions.', 'flowing', 'approaches.', 'enormous,', 'style', 'researchers', 'few', 'calls', 'procedural,', 'these', 'produces', 'there’s', 'value;', 'execution', 'its', 'particular', 'point', 'opposite', 'considered', 'global', 'features', 'program', 'A', 'a', 'their', 'code,', 'I/O', 'possible', 'at', 'sending', 'Unfortunately,', 'about', '(e-mail', 'you', 'trivial', 'which', 'conditions', 'correct.', 'don’t', 'your', 'second.', 'XML', 'even', 'end', 'line', 'no', 'correctness', 'effects,', 'libraries', 'would', 'etc.).', 'object-oriented,', 'might', 'text', 'because', 'Objects', 'by', 'approach.', 'visible', 'this', 'avoiding', 'object-oriented', 'easier', 'result', 'return', 'called', 'avoid', 'interested', 'Python', 'variables,', 'down', 'making', 'transactions,', 'messages,', 'value.', 'GUI', 'benefit', 'changes.', 'before', 'desired', 'combine', 'example,', 'generated', 'one', 'screen', 'processing', 'long', 'strict', 'approaches;', 'writing', 'used', 'propagated', 'multi-paradigm;', 'Lisp,', 'looks', 'relevant', 'functional,', 'usually', 'assignments', 'sections', 'proof', '+', 'programming’s', 'ways', 'proven', 'representing', 'executed.', 'instead,', 'while', 'after', 'break', 'have', 'method', 'local', 'is', 'must', 'written', 'languages.', 'Y', 'impractical', 'daily', 'take', 'handle', 'through', 'X’', 'structures', 'C++,', 'reading', 'for', 'time.sleep(1)', 'still', 'arose', 'wrote', '=', 'In', 'prove', 'functions', 'Some', 'write', 'effects', 'approach', 'new', 'that', 'with', 'producing', 'logic', 'statements', 'parser,', 'file', 'Functions', 'if', 'as', 'true', 'complicated', 'right;', 'inputs', 'slightly', 'difficult', 'none', 'assignment', 'on', 'multi-paradigm', 'using', 'not', 'input.', 'operates', 'rigorous', 'wants', 'different', 'every', 'and', 'proof,', 'aren’t', 'technique;', 'several', 'containing', 'proofs', 'proof;', 'finding', 'continues', 'Printing', 'programming.', 'computer', 'they’re', 'collection', 'some', 'proved', 'output.', 'provide', 'extreme', 'technique', 'true.', 'browser)', 'interface', 'The', 'get', 'purity', 'of', 'example.', 'were', 'consist', 'Even', 'program,', '(the']\n"
     ]
    }
   ],
   "source": [
    "f = open('example_file.txt','r')\n",
    "data = f.read()\n",
    "words = data.split()\n",
    "words = list(set(words))\n",
    "f.close()\n",
    "\n",
    "print(words)"
   ]
  },
  {
   "cell_type": "markdown",
   "metadata": {},
   "source": [
    "## Task 7\n",
    "Print how many times each word from file example_file.txt occurs."
   ]
  },
  {
   "cell_type": "code",
   "execution_count": 65,
   "metadata": {
    "collapsed": true
   },
   "outputs": [
    {
     "output_type": "stream",
     "name": "stdout",
     "text": [
      "but - 3\nstate, - 1\nlittle - 1\nX - 1\nassignments; - 1\nmaybe - 1\ncorrect, - 1\nfunctional - 4\nOther - 1\ngoal - 1\nan - 1\nobjects - 1\nruns; - 1\nit, - 1\nbeen - 1\nmuch - 1\napproaches - 1\nall - 6\napplication - 1\nonly - 2\nany - 1\nalways - 1\nnon-functional - 1\nproperties - 1\ncapsules - 1\nthey’ll - 1\nc - 1\ninputs. - 1\noften - 1\nlanguages - 4\ninvariants, - 1\nthere - 1\nmathematically - 1\nuntil - 1\nboth - 1\nrequire - 1\ndata - 3\nwill - 2\nprogramming - 2\ntime - 1\nconstruct - 1\nfrom - 1\nuse - 4\npages - 1\nchoose - 1\navoidance - 1\ninternally. - 1\nwithout - 1\ntheoretical - 1\nlet - 1\nb, - 1\nlong; - 1\nare - 12\nbelieve - 1\nimplementation - 1\nnumerous - 1\nprocedural - 1\nmakes - 1\ncorrect - 2\nmodify - 3\nupdated - 1\nto - 16\ndesigners - 1\nconcluding - 2\nmoderately - 1\nweb - 1\neffects. - 2\nfunction - 2\nuseful - 1\nit’s - 2\ndisk - 1\noutput - 2\ndiscourages - 1\nother - 2\nmake - 1\ninterpreter, - 1\ncan - 4\nerror - 1\nthe - 29\nThis - 3\nvery - 1\nmathematical - 1\npausing - 1\nprint - 1\ntesting - 1\nexecuted, - 1\nAvoiding - 1\nshould - 1\nbe - 7\nflows - 1\nlargely - 2\neach - 1\ntwo - 1\nonward. - 1\nsoftware. - 1\nverifying - 1\nchanges - 2\nset - 2\nFunctional - 4\nlarge - 1\npurely - 1\ninstances - 1\nyou’ve - 1\nright - 2\nreach - 1\nproving - 1\nor - 13\nstatement - 1\nsupport - 1\nfunctional. - 1\nvariables - 2\nthen - 2\ndepend - 1\nin - 7\nstate - 4\ninternal - 2\nEach - 1\nshow - 1\nsource - 1\ninstead - 1\nside - 7\ninvariants - 5\nprogram’s - 3\nY’ - 1\nit - 1\nfunctional-appearing - 1\ncould - 1\ncode - 2\nalong - 1\nwon’t - 2\nmatch - 1\nfunction’s - 2\nsuch - 1\nFor - 4\ninput - 3\nemphasize - 1\nmeans - 1\nbetween - 1\na=3 - 1\nwrongly - 1\nprograms - 9\nquestion - 1\nworks - 1\ngo - 1\nfunctions. - 2\nflowing - 1\napproaches. - 1\nenormous, - 1\nstyle - 2\nresearchers - 1\nfew - 1\ncalls - 1\nprocedural, - 1\nthese - 1\nproduces - 2\nthere’s - 1\nvalue; - 1\nexecution - 1\nits - 3\nparticular - 1\npoint - 1\nopposite - 1\nconsidered - 1\nglobal - 1\nfeatures - 1\nprogram - 6\nA - 1\na - 22\ntheir - 1\ncode, - 1\nI/O - 1\npossible - 2\nat - 2\nsending - 1\nUnfortunately, - 1\nabout - 1\n(e-mail - 1\nyou - 8\ntrivial - 1\nwhich - 1\nconditions - 1\ncorrect. - 4\ndon’t - 1\nyour - 3\nsecond. - 1\nXML - 1\neven - 1\nend - 1\nline - 3\nno - 2\ncorrectness - 1\neffects, - 1\nlibraries - 1\nwould - 2\netc.). - 1\nobject-oriented, - 1\nmight - 3\ntext - 1\nbecause - 1\nObjects - 1\nby - 1\napproach. - 1\nvisible - 1\nthis - 2\navoiding - 1\nobject-oriented - 2\neasier - 1\nresult - 1\nreturn - 3\ncalled - 2\navoid - 2\ninterested - 1\nPython - 6\nvariables, - 1\ndown - 2\nmaking - 1\ntransactions, - 1\nmessages, - 1\nvalue. - 1\nGUI - 1\nbenefit - 1\nchanges. - 1\nbefore - 2\ndesired - 1\ncombine - 1\nexample, - 2\ngenerated - 1\none - 1\nscreen - 2\nprocessing - 1\nlong - 1\nstrict - 1\napproaches; - 1\nwriting - 2\nused - 1\npropagated - 1\nmulti-paradigm; - 1\nLisp, - 1\nlooks - 1\nrelevant - 1\nfunctional, - 1\nusually - 2\nassignments - 4\nsections - 1\nproof - 3\n+ - 1\nprogramming’s - 1\nways - 1\nproven - 1\nrepresenting - 1\nexecuted. - 1\ninstead, - 1\nwhile - 1\nafter - 1\nbreak - 1\nhave - 4\nmethod - 1\nlocal - 1\nis - 10\nmust - 1\nwritten - 2\nlanguages. - 1\nY - 1\nimpractical - 1\ndaily - 1\ntake - 1\nhandle - 1\nthrough - 1\nX’ - 1\nstructures - 1\nC++, - 1\nreading - 1\nfor - 6\ntime.sleep(1) - 1\nstill - 1\narose - 1\nwrote - 1\n= - 1\nIn - 3\nprove - 2\nfunctions - 2\nSome - 1\nwrite - 3\neffects - 4\napproach - 1\nnew - 1\nthat - 19\nwith - 4\nproducing - 1\nlogic - 1\nstatements - 1\nparser, - 1\nfile - 1\nFunctions - 1\nif - 2\nas - 4\ntrue - 3\ncomplicated - 1\nright; - 1\ninputs - 1\nslightly - 1\ndifficult - 3\nnone - 1\nassignment - 2\non - 4\nmulti-paradigm - 1\nusing - 2\nnot - 2\ninput. - 1\noperates - 1\nrigorous - 1\nwants - 1\ndifferent - 6\nevery - 1\nand - 14\nproof, - 1\naren’t - 1\ntechnique; - 1\nseveral - 2\ncontaining - 1\nproofs - 1\nproof; - 1\nfinding - 1\ncontinues - 1\nPrinting - 1\nprogramming. - 2\ncomputer - 1\nthey’re - 1\ncollection - 1\nsome - 4\nproved - 1\noutput. - 2\nprovide - 1\nextreme - 1\ntechnique - 1\ntrue. - 1\nbrowser) - 1\ninterface - 1\nThe - 2\nget - 1\npurity - 1\nof - 18\nexample. - 2\nwere - 1\nconsist - 1\nEven - 2\nprogram, - 3\n(the - 1\n"
     ]
    }
   ],
   "source": [
    "f = open('example_file.txt','r')\n",
    "data = f.read()\n",
    "words = data.split()\n",
    "wordso = list(set(words))\n",
    "f.close()\n",
    "\n",
    "for w in wordso:\n",
    "    print(w+' - '+str(words.count(w)))"
   ]
  },
  {
   "cell_type": "code",
   "execution_count": null,
   "metadata": {},
   "outputs": [],
   "source": []
  }
 ],
 "metadata": {
  "kernelspec": {
   "display_name": "Python 3",
   "language": "python",
   "name": "python3"
  },
  "language_info": {
   "codemirror_mode": {
    "name": "ipython",
    "version": 3
   },
   "file_extension": ".py",
   "mimetype": "text/x-python",
   "name": "python",
   "nbconvert_exporter": "python",
   "pygments_lexer": "ipython3",
   "version": "3.7.5-final"
  }
 },
 "nbformat": 4,
 "nbformat_minor": 2
}